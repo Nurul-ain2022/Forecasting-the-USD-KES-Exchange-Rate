{
 "cells": [
  {
   "cell_type": "markdown",
   "metadata": {},
   "source": [
    "## Phase 4 Group 2 project \n",
    "#### Contributors :\n",
    "> * Nurulain Abdi Maalim\n",
    "> * Amos Kibet\n",
    "> * Mercy Onduso \n",
    "> * Beth Mithamo"
   ]
  },
  {
   "cell_type": "markdown",
   "metadata": {},
   "source": [
    "# Forecasting the USD-KES Exchange Rate: A Time Series Analysis from 2003 to 2024"
   ]
  },
  {
   "cell_type": "markdown",
   "metadata": {},
   "source": [
    "###  Business Problem:\n",
    "\n",
    "A company based in Kenya imports raw materials from the United States and has been affected by the fluctuation of the exchange rate between the USD and KES. The company wants to forecast the exchange rate between USD and KES for the next few years to better plan their budget and manage their imports.\n",
    "\n",
    "### Solution -  building a Predictive model:\n",
    "\n",
    "Using historical data of the exchange rate between USD and KES from 2003 till today from CBK's website, we can build a predictive model to estimate the exchange rate in the future. \n",
    "\n",
    "We will use a time series forecasting technique to predict the exchange rate between USD and KES in 2024, using the data gathered by CBK up until 2023, we will use it to train our predictive model, and then use the model to forecast the exchange rate for 2024. "
   ]
  },
  {
   "cell_type": "code",
   "execution_count": 1,
   "metadata": {},
   "outputs": [],
   "source": [
    "import pandas as pd"
   ]
  },
  {
   "cell_type": "code",
   "execution_count": 2,
   "metadata": {},
   "outputs": [
    {
     "data": {
      "text/html": [
       "<div>\n",
       "<style scoped>\n",
       "    .dataframe tbody tr th:only-of-type {\n",
       "        vertical-align: middle;\n",
       "    }\n",
       "\n",
       "    .dataframe tbody tr th {\n",
       "        vertical-align: top;\n",
       "    }\n",
       "\n",
       "    .dataframe thead th {\n",
       "        text-align: right;\n",
       "    }\n",
       "</style>\n",
       "<table border=\"1\" class=\"dataframe\">\n",
       "  <thead>\n",
       "    <tr style=\"text-align: right;\">\n",
       "      <th></th>\n",
       "      <th>Date</th>\n",
       "      <th>Currency</th>\n",
       "      <th>Mean</th>\n",
       "      <th>Buy</th>\n",
       "      <th>Sell</th>\n",
       "    </tr>\n",
       "  </thead>\n",
       "  <tbody>\n",
       "    <tr>\n",
       "      <th>0</th>\n",
       "      <td>10/03/2023</td>\n",
       "      <td>US DOLLAR</td>\n",
       "      <td>128.8882</td>\n",
       "      <td>128.7882</td>\n",
       "      <td>128.9882</td>\n",
       "    </tr>\n",
       "    <tr>\n",
       "      <th>1</th>\n",
       "      <td>09/03/2023</td>\n",
       "      <td>US DOLLAR</td>\n",
       "      <td>128.5912</td>\n",
       "      <td>128.4912</td>\n",
       "      <td>128.6912</td>\n",
       "    </tr>\n",
       "    <tr>\n",
       "      <th>2</th>\n",
       "      <td>08/03/2023</td>\n",
       "      <td>US DOLLAR</td>\n",
       "      <td>128.3618</td>\n",
       "      <td>128.2618</td>\n",
       "      <td>128.4618</td>\n",
       "    </tr>\n",
       "    <tr>\n",
       "      <th>3</th>\n",
       "      <td>07/03/2023</td>\n",
       "      <td>US DOLLAR</td>\n",
       "      <td>128.1088</td>\n",
       "      <td>128.0088</td>\n",
       "      <td>128.2088</td>\n",
       "    </tr>\n",
       "    <tr>\n",
       "      <th>4</th>\n",
       "      <td>06/03/2023</td>\n",
       "      <td>US DOLLAR</td>\n",
       "      <td>127.7559</td>\n",
       "      <td>127.6559</td>\n",
       "      <td>127.8559</td>\n",
       "    </tr>\n",
       "  </tbody>\n",
       "</table>\n",
       "</div>"
      ],
      "text/plain": [
       "         Date   Currency      Mean       Buy      Sell\n",
       "0  10/03/2023  US DOLLAR  128.8882  128.7882  128.9882\n",
       "1  09/03/2023  US DOLLAR  128.5912  128.4912  128.6912\n",
       "2  08/03/2023  US DOLLAR  128.3618  128.2618  128.4618\n",
       "3  07/03/2023  US DOLLAR  128.1088  128.0088  128.2088\n",
       "4  06/03/2023  US DOLLAR  127.7559  127.6559  127.8559"
      ]
     },
     "execution_count": 2,
     "metadata": {},
     "output_type": "execute_result"
    }
   ],
   "source": [
    "usd_kes = pd.read_csv(\"Key CBK Indicative Exchange Rates.csv\")\n",
    "usd_kes.head()"
   ]
  },
  {
   "cell_type": "code",
   "execution_count": 3,
   "metadata": {},
   "outputs": [
    {
     "name": "stdout",
     "output_type": "stream",
     "text": [
      "<class 'pandas.core.frame.DataFrame'>\n",
      "RangeIndex: 4612 entries, 0 to 4611\n",
      "Data columns (total 5 columns):\n",
      " #   Column    Non-Null Count  Dtype  \n",
      "---  ------    --------------  -----  \n",
      " 0   Date      4612 non-null   object \n",
      " 1   Currency  4612 non-null   object \n",
      " 2   Mean      4612 non-null   float64\n",
      " 3   Buy       4612 non-null   float64\n",
      " 4   Sell      4612 non-null   float64\n",
      "dtypes: float64(3), object(2)\n",
      "memory usage: 180.3+ KB\n"
     ]
    }
   ],
   "source": [
    "usd_kes.info()"
   ]
  },
  {
   "cell_type": "code",
   "execution_count": 4,
   "metadata": {},
   "outputs": [
    {
     "data": {
      "text/html": [
       "<div>\n",
       "<style scoped>\n",
       "    .dataframe tbody tr th:only-of-type {\n",
       "        vertical-align: middle;\n",
       "    }\n",
       "\n",
       "    .dataframe tbody tr th {\n",
       "        vertical-align: top;\n",
       "    }\n",
       "\n",
       "    .dataframe thead th {\n",
       "        text-align: right;\n",
       "    }\n",
       "</style>\n",
       "<table border=\"1\" class=\"dataframe\">\n",
       "  <thead>\n",
       "    <tr style=\"text-align: right;\">\n",
       "      <th></th>\n",
       "      <th>Mean</th>\n",
       "      <th>Buy</th>\n",
       "      <th>Sell</th>\n",
       "    </tr>\n",
       "  </thead>\n",
       "  <tbody>\n",
       "    <tr>\n",
       "      <th>count</th>\n",
       "      <td>4612.000000</td>\n",
       "      <td>4612.000000</td>\n",
       "      <td>4612.000000</td>\n",
       "    </tr>\n",
       "    <tr>\n",
       "      <th>mean</th>\n",
       "      <td>90.847999</td>\n",
       "      <td>90.753421</td>\n",
       "      <td>90.942355</td>\n",
       "    </tr>\n",
       "    <tr>\n",
       "      <th>std</th>\n",
       "      <td>15.188971</td>\n",
       "      <td>15.181186</td>\n",
       "      <td>15.196730</td>\n",
       "    </tr>\n",
       "    <tr>\n",
       "      <th>min</th>\n",
       "      <td>61.510600</td>\n",
       "      <td>61.438900</td>\n",
       "      <td>61.582200</td>\n",
       "    </tr>\n",
       "    <tr>\n",
       "      <th>25%</th>\n",
       "      <td>77.455200</td>\n",
       "      <td>77.368600</td>\n",
       "      <td>77.547950</td>\n",
       "    </tr>\n",
       "    <tr>\n",
       "      <th>50%</th>\n",
       "      <td>87.878750</td>\n",
       "      <td>87.793300</td>\n",
       "      <td>87.962800</td>\n",
       "    </tr>\n",
       "    <tr>\n",
       "      <th>75%</th>\n",
       "      <td>102.671700</td>\n",
       "      <td>102.571325</td>\n",
       "      <td>102.771700</td>\n",
       "    </tr>\n",
       "    <tr>\n",
       "      <th>max</th>\n",
       "      <td>128.888200</td>\n",
       "      <td>128.788200</td>\n",
       "      <td>128.988200</td>\n",
       "    </tr>\n",
       "  </tbody>\n",
       "</table>\n",
       "</div>"
      ],
      "text/plain": [
       "              Mean          Buy         Sell\n",
       "count  4612.000000  4612.000000  4612.000000\n",
       "mean     90.847999    90.753421    90.942355\n",
       "std      15.188971    15.181186    15.196730\n",
       "min      61.510600    61.438900    61.582200\n",
       "25%      77.455200    77.368600    77.547950\n",
       "50%      87.878750    87.793300    87.962800\n",
       "75%     102.671700   102.571325   102.771700\n",
       "max     128.888200   128.788200   128.988200"
      ]
     },
     "execution_count": 4,
     "metadata": {},
     "output_type": "execute_result"
    }
   ],
   "source": [
    "usd_kes.describe()"
   ]
  },
  {
   "cell_type": "code",
   "execution_count": 5,
   "metadata": {},
   "outputs": [
    {
     "data": {
      "text/html": [
       "<div>\n",
       "<style scoped>\n",
       "    .dataframe tbody tr th:only-of-type {\n",
       "        vertical-align: middle;\n",
       "    }\n",
       "\n",
       "    .dataframe tbody tr th {\n",
       "        vertical-align: top;\n",
       "    }\n",
       "\n",
       "    .dataframe thead th {\n",
       "        text-align: right;\n",
       "    }\n",
       "</style>\n",
       "<table border=\"1\" class=\"dataframe\">\n",
       "  <thead>\n",
       "    <tr style=\"text-align: right;\">\n",
       "      <th></th>\n",
       "      <th>Date</th>\n",
       "      <th>Currency</th>\n",
       "      <th>Mean</th>\n",
       "      <th>Buy</th>\n",
       "      <th>Sell</th>\n",
       "    </tr>\n",
       "  </thead>\n",
       "  <tbody>\n",
       "    <tr>\n",
       "      <th>4607</th>\n",
       "      <td>02/11/2004</td>\n",
       "      <td>US DOLLAR</td>\n",
       "      <td>81.2078</td>\n",
       "      <td>81.1078</td>\n",
       "      <td>81.3078</td>\n",
       "    </tr>\n",
       "    <tr>\n",
       "      <th>4608</th>\n",
       "      <td>12/09/2004</td>\n",
       "      <td>US DOLLAR</td>\n",
       "      <td>84.3208</td>\n",
       "      <td>84.2250</td>\n",
       "      <td>84.4167</td>\n",
       "    </tr>\n",
       "    <tr>\n",
       "      <th>4609</th>\n",
       "      <td>12/09/2004</td>\n",
       "      <td>US DOLLAR</td>\n",
       "      <td>84.3208</td>\n",
       "      <td>84.2250</td>\n",
       "      <td>84.4167</td>\n",
       "    </tr>\n",
       "    <tr>\n",
       "      <th>4610</th>\n",
       "      <td>12/09/2003</td>\n",
       "      <td>US DOLLAR</td>\n",
       "      <td>84.1483</td>\n",
       "      <td>84.0539</td>\n",
       "      <td>84.2428</td>\n",
       "    </tr>\n",
       "    <tr>\n",
       "      <th>4611</th>\n",
       "      <td>01/01/1970</td>\n",
       "      <td>US DOLLAR</td>\n",
       "      <td>100.4232</td>\n",
       "      <td>97.4105</td>\n",
       "      <td>102.1154</td>\n",
       "    </tr>\n",
       "  </tbody>\n",
       "</table>\n",
       "</div>"
      ],
      "text/plain": [
       "            Date   Currency      Mean      Buy      Sell\n",
       "4607  02/11/2004  US DOLLAR   81.2078  81.1078   81.3078\n",
       "4608  12/09/2004  US DOLLAR   84.3208  84.2250   84.4167\n",
       "4609  12/09/2004  US DOLLAR   84.3208  84.2250   84.4167\n",
       "4610  12/09/2003  US DOLLAR   84.1483  84.0539   84.2428\n",
       "4611  01/01/1970  US DOLLAR  100.4232  97.4105  102.1154"
      ]
     },
     "execution_count": 5,
     "metadata": {},
     "output_type": "execute_result"
    }
   ],
   "source": [
    "usd_kes.tail()"
   ]
  }
 ],
 "metadata": {
  "kernelspec": {
   "display_name": "Python 3",
   "language": "python",
   "name": "python3"
  },
  "language_info": {
   "codemirror_mode": {
    "name": "ipython",
    "version": 3
   },
   "file_extension": ".py",
   "mimetype": "text/x-python",
   "name": "python",
   "nbconvert_exporter": "python",
   "pygments_lexer": "ipython3",
   "version": "3.8.5"
  }
 },
 "nbformat": 4,
 "nbformat_minor": 4
}
